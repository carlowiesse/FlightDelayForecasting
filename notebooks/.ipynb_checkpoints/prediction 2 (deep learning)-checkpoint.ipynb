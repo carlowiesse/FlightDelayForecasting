{
 "cells": [
  {
   "cell_type": "code",
   "execution_count": 1,
   "metadata": {},
   "outputs": [],
   "source": [
    "import numpy as np\n",
    "import pandas as pd\n",
    "import seaborn as sns\n",
    "import matplotlib.pyplot as plt\n",
    "from sklearn.decomposition import PCA\n",
    "from sklearn.model_selection import KFold\n",
    "from sklearn.svm import SVR,SVC\n",
    "from sklearn.ensemble import RandomForestRegressor\n",
    "import pickle\n",
    "from sklearn.preprocessing import OneHotEncoder"
   ]
  },
  {
   "cell_type": "code",
   "execution_count": 2,
   "metadata": {},
   "outputs": [],
   "source": [
    "df = pd.read_csv('../data/raw_data.csv')\n",
    "df_airports = pd.read_csv('../data/airports.csv')"
   ]
  },
  {
   "cell_type": "code",
   "execution_count": 3,
   "metadata": {},
   "outputs": [
    {
     "name": "stdout",
     "output_type": "stream",
     "text": [
      "<class 'pandas.core.frame.DataFrame'>\n",
      "Int64Index: 73211 entries, 0 to 73210\n",
      "Data columns (total 23 columns):\n",
      " #   Column               Non-Null Count  Dtype  \n",
      "---  ------               --------------  -----  \n",
      " 0   year                 73211 non-null  int64  \n",
      " 1   month                73211 non-null  int64  \n",
      " 2   carrier_name         73211 non-null  object \n",
      " 3   arr_flights          73211 non-null  float64\n",
      " 4   arr_delay_ct         73211 non-null  float64\n",
      " 5   carrier_ct           73211 non-null  float64\n",
      " 6   weather_ct           73211 non-null  float64\n",
      " 7   nas_ct               73211 non-null  float64\n",
      " 8   security_ct          73211 non-null  float64\n",
      " 9   late_aircraft_ct     73211 non-null  float64\n",
      " 10  arr_cancelled        73211 non-null  float64\n",
      " 11  arr_diverted         73211 non-null  float64\n",
      " 12  arr_delay            73211 non-null  float64\n",
      " 13  carrier_delay        73211 non-null  float64\n",
      " 14  weather_delay        73211 non-null  float64\n",
      " 15  nas_delay            73211 non-null  float64\n",
      " 16  security_delay       73211 non-null  float64\n",
      " 17  late_aircraft_delay  73211 non-null  float64\n",
      " 18  airport_city         73211 non-null  object \n",
      " 19  airport_state        73211 non-null  object \n",
      " 20  airport_name         73211 non-null  object \n",
      " 21  airport_lat          73211 non-null  float64\n",
      " 22  airport_lon          73211 non-null  float64\n",
      "dtypes: float64(17), int64(2), object(4)\n",
      "memory usage: 13.4+ MB\n"
     ]
    }
   ],
   "source": [
    "df_for_training = pd.merge(df,df_airports,left_on='airport',right_on='code')\n",
    "df_for_training.drop(columns=['code','airport_name','carrier','airport'],inplace=True)\n",
    "df_for_training.rename(columns={'arr_del15':'arr_delay_ct','name':'airport_name','city':'airport_city','state':'airport_state','lat':'airport_lat','lon':'airport_lon'},inplace=True)\n",
    "df_for_training['carrier_name'] = df_for_training['carrier_name'].apply(lambda x: x.strip())\n",
    "df_for_training['airport_name'] = df_for_training['airport_name'].apply(lambda x: x.strip())\n",
    "df_for_training.info()"
   ]
  },
  {
   "cell_type": "code",
   "execution_count": 4,
   "metadata": {},
   "outputs": [],
   "source": [
    "carrier_names = np.unique(df_for_training['carrier_name'].values)\n",
    "airport_names = np.unique(df_for_training['airport_name'].values)\n",
    "city_names = np.unique(df_for_training['airport_city'].values)\n",
    "state_names = np.unique(df_for_training['airport_state'].values)\n",
    "\n",
    "f1 = lambda x: np.where(city_names==x)[0][0]\n",
    "f2 = lambda x: np.where(state_names==x)[0][0]\n",
    "f3 = lambda x: np.where(airport_names==x)[0][0]\n",
    "f4 = lambda x: np.where(carrier_names==x)[0][0]\n",
    "\n",
    "normalize = lambda x,y: (x-y[0])/(y[1]-y[0])\n",
    "\n",
    "x = pd.DataFrame()\n",
    "y = pd.DataFrame()\n",
    "\n",
    "y['carrier_delay_prob'] = df_for_training['carrier_ct']/df_for_training['arr_flights']\n",
    "y['nas_delay_prob'] = df_for_training['nas_ct']/df_for_training['arr_flights']\n",
    "y['human_delay_prob'] = (df_for_training['carrier_ct']+df_for_training['nas_ct'])/df_for_training['arr_flights']\n",
    "y['delay_prob'] = df_for_training['arr_delay_ct']/df_for_training['arr_flights']\n",
    "\n",
    "y['carrier_delay'] = df_for_training['carrier_delay']/df_for_training['carrier_ct']\n",
    "y['nas_delay'] = df_for_training['nas_delay']/df_for_training['nas_ct']\n",
    "y['human_delay'] = (df_for_training['carrier_delay']+df_for_training['nas_delay'])/(df_for_training['carrier_ct']+df_for_training['nas_ct'])\n",
    "y['total_delay'] = df_for_training['arr_delay']/df_for_training['arr_delay_ct']\n",
    "\n",
    "y.replace([np.inf, -np.inf, np.nan], 0, inplace=True)\n",
    "\n",
    "params = [(2003,2020),\n",
    "          (1,12),\n",
    "          (0,len(city_names)-1),\n",
    "          (0,len(state_names)-1),\n",
    "          (0,len(airport_names)-1),\n",
    "          (df_for_training['airport_lat'].min(),df_for_training['airport_lat'].max()),\n",
    "          (df_for_training['airport_lon'].min(),df_for_training['airport_lon'].max()),\n",
    "          (0,len(carrier_names)-1)]\n",
    "\n",
    "x['year'] = df_for_training['year']\n",
    "x['month'] = df_for_training['month']\n",
    "x['airport_city'] = df_for_training['airport_city']#.apply(f1)\n",
    "x['airport_state'] = df_for_training['airport_state']#.apply(f2)\n",
    "x['airport_name'] = df_for_training['airport_name']#.apply(f3)\n",
    "x['airport_lat'] = df_for_training['airport_lat']\n",
    "x['airport_lon'] = df_for_training['airport_lon']\n",
    "x['carrier_name'] = df_for_training['carrier_name']#.apply(f4)\n",
    "\n",
    "#for idx,label in enumerate(x.columns.values):\n",
    "#    x[label] = normalize(x[label],params[idx])"
   ]
  },
  {
   "cell_type": "code",
   "execution_count": 5,
   "metadata": {},
   "outputs": [
    {
     "name": "stdout",
     "output_type": "stream",
     "text": [
      "<class 'pandas.core.frame.DataFrame'>\n",
      "Int64Index: 73211 entries, 0 to 73210\n",
      "Data columns (total 8 columns):\n",
      " #   Column         Non-Null Count  Dtype  \n",
      "---  ------         --------------  -----  \n",
      " 0   year           73211 non-null  int64  \n",
      " 1   month          73211 non-null  int64  \n",
      " 2   airport_city   73211 non-null  object \n",
      " 3   airport_state  73211 non-null  object \n",
      " 4   airport_name   73211 non-null  object \n",
      " 5   airport_lat    73211 non-null  float64\n",
      " 6   airport_lon    73211 non-null  float64\n",
      " 7   carrier_name   73211 non-null  object \n",
      "dtypes: float64(2), int64(2), object(4)\n",
      "memory usage: 5.0+ MB\n",
      "<class 'pandas.core.frame.DataFrame'>\n",
      "Int64Index: 73211 entries, 0 to 73210\n",
      "Data columns (total 8 columns):\n",
      " #   Column              Non-Null Count  Dtype  \n",
      "---  ------              --------------  -----  \n",
      " 0   carrier_delay_prob  73211 non-null  float64\n",
      " 1   nas_delay_prob      73211 non-null  float64\n",
      " 2   human_delay_prob    73211 non-null  float64\n",
      " 3   delay_prob          73211 non-null  float64\n",
      " 4   carrier_delay       73211 non-null  float64\n",
      " 5   nas_delay           73211 non-null  float64\n",
      " 6   human_delay         73211 non-null  float64\n",
      " 7   total_delay         73211 non-null  float64\n",
      "dtypes: float64(8)\n",
      "memory usage: 5.0 MB\n"
     ]
    }
   ],
   "source": [
    "x.info()\n",
    "y.info()"
   ]
  },
  {
   "cell_type": "code",
   "execution_count": 40,
   "metadata": {},
   "outputs": [],
   "source": [
    "all_time_carriers = []\n",
    "for i in carrier_names:\n",
    "    if len(x[x['carrier_name']==i]['year'].unique())==18: \n",
    "        all_time_carriers.append(i)\n",
    "        \n",
    "cond_carriers = x['carrier_name'].isin(all_time_carriers)\n",
    "#cond_carriers = True\n",
    "cond_train = x['year']<2019\n",
    "cond_test2019 = x['year']==2019\n",
    "cond_test2020 = x['year']==2020\n",
    "\n",
    "encoder = OneHotEncoder(handle_unknown='ignore')\n",
    "one_hot_encode = lambda x: encoder.fit_transform(x.values).toarray()\n",
    "\n",
    "xtrain = []\n",
    "xtest_2019 = []\n",
    "xtest_2020 = []\n",
    "\n",
    "for i in ['year','month','airport_name','carrier_name']:\n",
    "    \n",
    "    if i == 'year': \n",
    "        xtrain.append(x.loc[cond_carriers&cond_train,['month']]+12*(x.loc[cond_carriers&cond_train,['year']].values-2003)-6)\n",
    "        xtest_2019.append(x.loc[cond_carriers&cond_test2019,['month']]+12*(x.loc[cond_carriers&cond_test2019,['year']].values-2003)-6)\n",
    "        xtest_2020.append(x.loc[cond_carriers&cond_test2020,['month']]+12*(x.loc[cond_carriers&cond_test2020,['year']].values-2003)-6)\n",
    "\n",
    "    else: \n",
    "        xtrain.append(one_hot_encode(x.loc[cond_carriers&cond_train,[i]]))\n",
    "        xtest_2019.append(one_hot_encode(x.loc[cond_carriers&cond_test2019,[i]]))\n",
    "        xtest_2020.append(one_hot_encode(x.loc[cond_carriers&cond_test2020,[i]]))\n",
    "        \n",
    "xtrain = np.hstack(tuple(xtrain))\n",
    "xtest_2019 = np.hstack(tuple(xtest_2019))\n",
    "xtest_2020 = np.hstack(tuple(xtest_2020))\n",
    "\n",
    "ytrain = []\n",
    "ytest_2019 = []\n",
    "ytest_2020 = []\n",
    "\n",
    "for j in ['nas_delay_prob','nas_delay','carrier_delay_prob','carrier_delay']:\n",
    "    \n",
    "    ytrain.append(y.loc[cond_carriers&cond_train,[j]].values)\n",
    "    ytest_2019.append(y.loc[cond_carriers&cond_test2019,[j]].values)\n",
    "    ytest_2020.append(y.loc[cond_carriers&cond_test2020,[j]].values)\n",
    "    \n",
    "ytrain = np.hstack(tuple(ytrain))\n",
    "ytest_2019 = np.hstack(tuple(ytest_2019))\n",
    "ytest_2020 = np.hstack(tuple(ytest_2020))"
   ]
  },
  {
   "cell_type": "code",
   "execution_count": 42,
   "metadata": {},
   "outputs": [
    {
     "data": {
      "text/plain": [
       "(184, 4)"
      ]
     },
     "execution_count": 42,
     "metadata": {},
     "output_type": "execute_result"
    }
   ],
   "source": [
    "xin = []\n",
    "for i in range(187-3):\n",
    "    xmonth = []\n",
    "    for j in range(4):\n",
    "        xmonth.append(xtrain[np.where(xtrain[:,0]==(i+j))[0]])\n",
    "    xin.append(xmonth)\n",
    "xin = np.array(xin)\n",
    "xin.shape"
   ]
  },
  {
   "cell_type": "code",
   "execution_count": 7,
   "metadata": {},
   "outputs": [],
   "source": [
    "train_idxs = (x['year']<2019).values\n",
    "test_idxs_2019 = (x['year']==2019).values\n",
    "test_idxs_2020 = (x['year']==2020).values"
   ]
  },
  {
   "cell_type": "code",
   "execution_count": 8,
   "metadata": {},
   "outputs": [],
   "source": [
    "xdata = np.hstack((month_counter,airport_enc,carrier_enc))\n",
    "ydata = np.squeeze(nas_delay)\n",
    "\n",
    "xtrain = xdata[train_idxs]\n",
    "ytrain = ydata[train_idxs]\n",
    "\n",
    "xtest_2019 = xdata[test_idxs_2019]\n",
    "ytest_2019 = ydata[test_idxs_2019]\n",
    "\n",
    "xtest_2020 = xdata[test_idxs_2020]\n",
    "ytest_2020 = ydata[test_idxs_2020]"
   ]
  },
  {
   "cell_type": "code",
   "execution_count": 9,
   "metadata": {},
   "outputs": [],
   "source": [
    "from tensorflow.keras.models import Model\n",
    "from tensorflow.keras.layers import *\n",
    "from tensorflow.keras.callbacks import EarlyStopping, ReduceLROnPlateau"
   ]
  },
  {
   "cell_type": "code",
   "execution_count": 10,
   "metadata": {},
   "outputs": [],
   "source": [
    "def build_model():\n",
    "    \n",
    "    input_vector = Input(shape=(4,None,50))\n",
    "    x = LSTM(4)(input_vector)\n",
    "\n",
    "    # This model maps an input to its reconstruction\n",
    "    model = Model(input_vector, x)\n",
    "    return model"
   ]
  },
  {
   "cell_type": "code",
   "execution_count": 11,
   "metadata": {},
   "outputs": [],
   "source": [
    "reduce_lr = ReduceLROnPlateau(monitor='loss',patience=5, verbose=1, min_lr=1e-6)\n",
    "early_stop = EarlyStopping(monitor='loss',patience=7, verbose=1, min_delta=1e-3)"
   ]
  },
  {
   "cell_type": "code",
   "execution_count": 12,
   "metadata": {},
   "outputs": [
    {
     "name": "stdout",
     "output_type": "stream",
     "text": [
      "Epoch 1/100\n",
      "4091/4091 [==============================] - 17s 4ms/step - loss: 0.1630\n",
      "Epoch 2/100\n",
      "4091/4091 [==============================] - 19s 5ms/step - loss: 0.1258\n",
      "Epoch 3/100\n",
      "4091/4091 [==============================] - 21s 5ms/step - loss: 0.1080\n",
      "Epoch 4/100\n",
      "4091/4091 [==============================] - 21s 5ms/step - loss: 0.1008\n",
      "Epoch 5/100\n",
      "4091/4091 [==============================] - 21s 5ms/step - loss: 0.0992\n",
      "Epoch 6/100\n",
      "4091/4091 [==============================] - 22s 5ms/step - loss: 0.0983\n",
      "Epoch 7/100\n",
      "4091/4091 [==============================] - 24s 6ms/step - loss: 0.0976\n",
      "Epoch 8/100\n",
      "4091/4091 [==============================] - 21s 5ms/step - loss: 0.0968\n",
      "Epoch 9/100\n",
      "4091/4091 [==============================] - 21s 5ms/step - loss: 0.0957\n",
      "Epoch 10/100\n",
      "4091/4091 [==============================] - 20s 5ms/step - loss: 0.0944\n",
      "Epoch 11/100\n",
      "4091/4091 [==============================] - 20s 5ms/step - loss: 0.0928\n",
      "Epoch 12/100\n",
      "4091/4091 [==============================] - 22s 5ms/step - loss: 0.0909\n",
      "Epoch 13/100\n",
      "4091/4091 [==============================] - 18s 4ms/step - loss: 0.0841\n",
      "Epoch 14/100\n",
      "4091/4091 [==============================] - 13s 3ms/step - loss: 0.0763\n",
      "Epoch 15/100\n",
      "4091/4091 [==============================] - 14s 3ms/step - loss: 0.0722\n",
      "Epoch 16/100\n",
      "4091/4091 [==============================] - 17s 4ms/step - loss: 0.0697\n",
      "Epoch 17/100\n",
      "4091/4091 [==============================] - 16s 4ms/step - loss: 0.0678\n",
      "Epoch 18/100\n",
      "4091/4091 [==============================] - 14s 3ms/step - loss: 0.0663\n",
      "Epoch 19/100\n",
      "4091/4091 [==============================] - 13s 3ms/step - loss: 0.0651\n",
      "Epoch 20/100\n",
      "4091/4091 [==============================] - 16s 4ms/step - loss: 0.0642\n",
      "Epoch 21/100\n",
      "4091/4091 [==============================] - 16s 4ms/step - loss: 0.0634\n",
      "Epoch 22/100\n",
      "4091/4091 [==============================] - 14s 3ms/step - loss: 0.0626\n",
      "Epoch 23/100\n",
      "4091/4091 [==============================] - 15s 4ms/step - loss: 0.0621\n",
      "Epoch 24/100\n",
      "4091/4091 [==============================] - 15s 4ms/step - loss: 0.0616\n",
      "Epoch 25/100\n",
      "4091/4091 [==============================] - 14s 3ms/step - loss: 0.0612\n",
      "Epoch 26/100\n",
      "4091/4091 [==============================] - 14s 3ms/step - loss: 0.0609\n",
      "Epoch 27/100\n",
      "4091/4091 [==============================] - 14s 3ms/step - loss: 0.0608\n",
      "Epoch 28/100\n",
      "4091/4091 [==============================] - 14s 3ms/step - loss: 0.0606\n",
      "Epoch 29/100\n",
      "4091/4091 [==============================] - 14s 3ms/step - loss: 0.0605\n",
      "Epoch 30/100\n",
      "4091/4091 [==============================] - 14s 3ms/step - loss: 0.0604\n",
      "Epoch 31/100\n",
      "4091/4091 [==============================] - 16s 4ms/step - loss: 0.0602\n",
      "Epoch 32/100\n",
      "4091/4091 [==============================] - 18s 4ms/step - loss: 0.0602\n",
      "Epoch 33/100\n",
      "4091/4091 [==============================] - 21s 5ms/step - loss: 0.0601\n",
      "Epoch 00033: early stopping\n"
     ]
    }
   ],
   "source": [
    "model = build_model()\n",
    "model.compile(loss='mse',optimizer='adam')\n",
    "# train model\n",
    "history = model.fit(xtrain,ytrain,\n",
    "                    epochs=100,\n",
    "                    batch_size=16,\n",
    "                    callbacks=[reduce_lr,early_stop])\n",
    "# save model instance\n",
    "model.save_weights('../models/lstm_model.h5')"
   ]
  },
  {
   "cell_type": "code",
   "execution_count": 31,
   "metadata": {},
   "outputs": [],
   "source": [
    "model = build_model()\n",
    "model.load_weights('../models/sae_weights.h5')\n",
    "\n",
    "new_model = Model(model.inputs,[model.layers[-2].output,model.layers[-4].output])\n",
    "#new_model = Model(model.inputs,model.layers[-2].output)\n",
    "\n",
    "features = new_model.predict(xtrain)\n",
    "features = np.hstack((xtrain,features[0],features[1]))\n",
    "#features = np.hstack((features[0],features[1]))"
   ]
  },
  {
   "cell_type": "code",
   "execution_count": 32,
   "metadata": {},
   "outputs": [
    {
     "name": "stdout",
     "output_type": "stream",
     "text": [
      "NAS Delay Probability\n",
      "Coefficient of determination (R^2): 0.01955118833461622\n"
     ]
    }
   ],
   "source": [
    "#model = RandomForestRegressor(random_state=0)\n",
    "model = SVR()\n",
    "model.fit(features, ytrain)\n",
    "\n",
    "print('NAS Delay Probability')\n",
    "\n",
    "score_train = model.score(features,ytrain)\n",
    "print('Coefficient of determination (R^2):',score_train)\n",
    "\n",
    "#score_test_2019 = model.score(xtest_2019,ytest_2019)\n",
    "#print('Coefficient of determination (R^2):',score_test_2019)\n",
    "\n",
    "#score_test_2020 = model.score(xtest_2020,ytest_2020)\n",
    "#print('Coefficient of determination (R^2):',score_test_2020)"
   ]
  },
  {
   "cell_type": "code",
   "execution_count": null,
   "metadata": {},
   "outputs": [],
   "source": []
  }
 ],
 "metadata": {
  "kernelspec": {
   "display_name": "Python 3",
   "language": "python",
   "name": "python3"
  },
  "language_info": {
   "codemirror_mode": {
    "name": "ipython",
    "version": 3
   },
   "file_extension": ".py",
   "mimetype": "text/x-python",
   "name": "python",
   "nbconvert_exporter": "python",
   "pygments_lexer": "ipython3",
   "version": "3.6.9"
  }
 },
 "nbformat": 4,
 "nbformat_minor": 4
}
